{
 "cells": [
  {
   "cell_type": "markdown",
   "metadata": {},
   "source": [
    "Ans 1:\n",
    "\n",
    "    A dictionary is a collection which is unordered, changeable and indexed. In Python dictionaries are written\n",
    "    with curly brackets, and they have keys and values."
   ]
  },
  {
   "cell_type": "markdown",
   "metadata": {},
   "source": [
    "Ans 2:\n",
    "\n",
    "\n",
    "        Dictionaries are unordered sets. But the main difference is that items in dictionaries are accessed\n",
    "        via keys and not via their position. The values of a dictionary can be any Python data type. A set \n",
    "        is a collection which is unordered and unindexed."
   ]
  },
  {
   "cell_type": "markdown",
   "metadata": {},
   "source": [
    "Ans 3:"
   ]
  },
  {
   "cell_type": "code",
   "execution_count": 3,
   "metadata": {},
   "outputs": [
    {
     "data": {
      "text/plain": [
       "{12.38, 2, 4, 44.78, 56, 'color', 'hello'}"
      ]
     },
     "execution_count": 3,
     "metadata": {},
     "output_type": "execute_result"
    }
   ],
   "source": [
    "i_set={\"hello\",12.38,56,\"color\",2,4,44.78}\n",
    "i_set"
   ]
  },
  {
   "cell_type": "markdown",
   "metadata": {},
   "source": [
    "Ans 4:"
   ]
  },
  {
   "cell_type": "code",
   "execution_count": 5,
   "metadata": {},
   "outputs": [
    {
     "name": "stdout",
     "output_type": "stream",
     "text": [
      "{'name': 'Suraj', 'id': 121, 'salary': 200000}\n"
     ]
    }
   ],
   "source": [
    "emp={\"name\":\"Suraj\",\"id\":121,\"salary\":200000}\n",
    "print(emp)"
   ]
  },
  {
   "cell_type": "markdown",
   "metadata": {},
   "source": [
    "Ans 5:"
   ]
  },
  {
   "cell_type": "code",
   "execution_count": 7,
   "metadata": {},
   "outputs": [
    {
     "name": "stdout",
     "output_type": "stream",
     "text": [
      "dict_items([('name', 'Suraj'), ('id', 121), ('salary', 200000)])\n"
     ]
    }
   ],
   "source": [
    "emp.items()"
   ]
  },
  {
   "cell_type": "markdown",
   "metadata": {},
   "source": [
    "Ans 6:"
   ]
  },
  {
   "cell_type": "code",
   "execution_count": 10,
   "metadata": {},
   "outputs": [
    {
     "name": "stdout",
     "output_type": "stream",
     "text": [
      "18\n"
     ]
    }
   ],
   "source": [
    "dict1={'name':\"Rama\",'Age':18,'Address':'Mumbai'}\n",
    "a=dict1['Age']\n",
    "print(a)"
   ]
  },
  {
   "cell_type": "markdown",
   "metadata": {},
   "source": [
    "Ans 7:"
   ]
  },
  {
   "cell_type": "code",
   "execution_count": 15,
   "metadata": {},
   "outputs": [
    {
     "name": "stdout",
     "output_type": "stream",
     "text": [
      "Dictinories:- {'brand': 'Ford', 'model': 'Mustang', 'year': 1964}\n",
      "Empty dictionarie: {}\n"
     ]
    }
   ],
   "source": [
    "thisdict = {\n",
    "  \"brand\": \"Ford\",\n",
    "  \"model\": \"Mustang\",\n",
    "  \"year\": 1964\n",
    "}\n",
    "print(\"Dictinories:-\",thisdict)\n",
    "thisdict.clear()\n",
    "print(\"Empty dictionarie:\",thisdict)"
   ]
  },
  {
   "cell_type": "markdown",
   "metadata": {},
   "source": [
    "Ans 8:"
   ]
  },
  {
   "cell_type": "code",
   "execution_count": 17,
   "metadata": {},
   "outputs": [
    {
     "data": {
      "text/plain": [
       "dict_keys(['Name', 'Roll-No', 'Marks', 'Gender'])"
      ]
     },
     "execution_count": 17,
     "metadata": {},
     "output_type": "execute_result"
    }
   ],
   "source": [
    "stud={\"Name\":\"Raj\",\"Roll-No\":26,\"Marks\":75,\"Gender\":'Male'}\n",
    "stud.keys()"
   ]
  },
  {
   "cell_type": "markdown",
   "metadata": {},
   "source": [
    "Ans 9"
   ]
  },
  {
   "cell_type": "code",
   "execution_count": 21,
   "metadata": {},
   "outputs": [
    {
     "name": "stdout",
     "output_type": "stream",
     "text": [
      "Union of sets are: {1, 2, 3, 4, 5, 6, 7, 8, 9}\n"
     ]
    }
   ],
   "source": [
    "A={2,3,4,5,6}\n",
    "B={7,8,9,1}\n",
    "res=A.union(B)\n",
    "print(\"Union of sets are:\",res)"
   ]
  },
  {
   "cell_type": "markdown",
   "metadata": {},
   "source": [
    "Ans 10:"
   ]
  },
  {
   "cell_type": "code",
   "execution_count": 25,
   "metadata": {},
   "outputs": [
    {
     "name": "stdout",
     "output_type": "stream",
     "text": [
      "Difference(A-B): {1, 2, 3}\n",
      "Difference(B-A): {8, 6, 7}\n",
      "Intersection: {4, 5}\n"
     ]
    }
   ],
   "source": [
    "A={1,2,3,4,5}\n",
    "B={4,5,6,7,8}\n",
    "diff=A-B\n",
    "print(\"Difference(A-B):\",diff)\n",
    "diff1=B-A\n",
    "print(\"Difference(B-A):\",diff1)\n",
    "c=A.intersection(B)\n",
    "print(\"Intersection:\",c)"
   ]
  },
  {
   "cell_type": "markdown",
   "metadata": {},
   "source": [
    "Ans 11:"
   ]
  },
  {
   "cell_type": "code",
   "execution_count": 36,
   "metadata": {},
   "outputs": [
    {
     "name": "stdout",
     "output_type": "stream",
     "text": [
      "Adding element: {1, 2, 3, 4, 5, 6}\n",
      "Remove element: {1, 2, 4, 5, 6}\n"
     ]
    }
   ],
   "source": [
    "set= {1, 2, 3, 5, 6}\n",
    "set.add(4)\n",
    "print(\"Adding element:\",set)\n",
    "set.discard(3)\n",
    "print(\"Remove element:\",set)\n"
   ]
  },
  {
   "cell_type": "markdown",
   "metadata": {},
   "source": [
    "Ans 12:"
   ]
  },
  {
   "cell_type": "code",
   "execution_count": 39,
   "metadata": {},
   "outputs": [
    {
     "data": {
      "text/plain": [
       "{1, 2, 3, 5, 6, 9, 11, 12}"
      ]
     },
     "execution_count": 39,
     "metadata": {},
     "output_type": "execute_result"
    }
   ],
   "source": [
    "A = {1, 2, 3, 5, 6}\n",
    "A.update([12,9,11])\n",
    "A"
   ]
  },
  {
   "cell_type": "markdown",
   "metadata": {},
   "source": [
    "Ans 13:"
   ]
  },
  {
   "cell_type": "code",
   "execution_count": 43,
   "metadata": {},
   "outputs": [
    {
     "name": "stdout",
     "output_type": "stream",
     "text": [
      "sum of all elements in set A is: 30\n"
     ]
    }
   ],
   "source": [
    "A={2,4,6,8,10}\n",
    "A=sum(A)\n",
    "print(\"sum of all elements in set A is:\",A)"
   ]
  },
  {
   "cell_type": "markdown",
   "metadata": {},
   "source": [
    "Ans 14:"
   ]
  },
  {
   "cell_type": "code",
   "execution_count": 58,
   "metadata": {},
   "outputs": [
    {
     "name": "stdout",
     "output_type": "stream",
     "text": [
      "Yes, 'a' found in set :  {'l', 'p', 'e', 'a'}\n"
     ]
    }
   ],
   "source": [
    "myset={\"a\",\"p\",\"p\",\"l\",\"e\"}\n",
    "if 'a'in myset :\n",
    "    print(\"Yes, 'a' found in set : \" , myset)\n",
    "else:\n",
    "    print(\"No,'a' is not fount in set :\",myset)\n",
    " "
   ]
  },
  {
   "cell_type": "code",
   "execution_count": 59,
   "metadata": {},
   "outputs": [
    {
     "name": "stdout",
     "output_type": "stream",
     "text": [
      "No,'r' not found in set: {'l', 'p', 'e', 'a'}\n"
     ]
    }
   ],
   "source": [
    "if 'r'in myset :\n",
    "    print(\"Yes, 'r' found in set : \" , myset)\n",
    "else:\n",
    "    print(\"No,'r' not found in set:\",myset)"
   ]
  },
  {
   "cell_type": "markdown",
   "metadata": {},
   "source": [
    "Ans 15:"
   ]
  },
  {
   "cell_type": "code",
   "execution_count": 61,
   "metadata": {},
   "outputs": [
    {
     "name": "stdout",
     "output_type": "stream",
     "text": [
      "player1 {'name': 'Sachin', 'runs': 20040}\n",
      "player2 {'name': 'Yuraj', 'runs': 19007}\n",
      "player3 {'name': 'Dravid', 'runs': 17654}\n"
     ]
    }
   ],
   "source": [
    "players = {\n",
    "  \"player1\" : {\n",
    "    \"name\" : \"Sachin\",\n",
    "    \"runs\" : 20040\n",
    "  },\n",
    "  \"player2\" : {\n",
    "    \"name\" : \"Yuraj\",\n",
    "    \"runs\" : 19007\n",
    "  },\n",
    "  \"player3\" : {\n",
    "    \"name\" : \"Dravid\",\n",
    "    \"runs\" : 17654\n",
    "  }\n",
    "  \n",
    "}\n",
    "for x,y in players.items():\n",
    "    print(x,y)\n"
   ]
  },
  {
   "cell_type": "code",
   "execution_count": null,
   "metadata": {},
   "outputs": [],
   "source": []
  },
  {
   "cell_type": "code",
   "execution_count": null,
   "metadata": {},
   "outputs": [],
   "source": []
  }
 ],
 "metadata": {
  "kernelspec": {
   "display_name": "Python 3",
   "language": "python",
   "name": "python3"
  },
  "language_info": {
   "codemirror_mode": {
    "name": "ipython",
    "version": 3
   },
   "file_extension": ".py",
   "mimetype": "text/x-python",
   "name": "python",
   "nbconvert_exporter": "python",
   "pygments_lexer": "ipython3",
   "version": "3.7.6"
  }
 },
 "nbformat": 4,
 "nbformat_minor": 4
}
