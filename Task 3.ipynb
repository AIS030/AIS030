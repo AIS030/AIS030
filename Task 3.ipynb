{
 "cells": [
  {
   "cell_type": "markdown",
   "metadata": {},
   "source": [
    "Ans 1 :-\n",
    "\n",
    "        A tuple is an immutable sequence of Python objects."
   ]
  },
  {
   "cell_type": "markdown",
   "metadata": {},
   "source": [
    "Ans 2:-\n",
    "\n",
    "    \n",
    "        The differences between tuples and lists are, the tuples cannot be changed unlike lists and tuples \n",
    "        use parentheses '()', whereas lists use square '[]' brackets."
   ]
  },
  {
   "cell_type": "markdown",
   "metadata": {},
   "source": [
    "Ans 3:-"
   ]
  },
  {
   "cell_type": "code",
   "execution_count": 14,
   "metadata": {},
   "outputs": [
    {
     "data": {
      "text/plain": [
       "range(1, 12)"
      ]
     },
     "execution_count": 14,
     "metadata": {},
     "output_type": "execute_result"
    }
   ],
   "source": [
    "range(1,12,1)"
   ]
  },
  {
   "cell_type": "markdown",
   "metadata": {},
   "source": [
    "Ans 4:-"
   ]
  },
  {
   "cell_type": "code",
   "execution_count": 16,
   "metadata": {},
   "outputs": [
    {
     "name": "stdout",
     "output_type": "stream",
     "text": [
      "Length of list a is:- 5\n",
      "Maximum number:- 50\n",
      "Minimum number:- 10\n"
     ]
    }
   ],
   "source": [
    "a=[10,20,30,40,50]\n",
    "print(\"Length of list a is:-\",len(a))\n",
    "print(\"Maximum number:-\",max(a))\n",
    "print(\"Minimum number:-\",min(a))"
   ]
  },
  {
   "cell_type": "markdown",
   "metadata": {},
   "source": [
    "Ans 5:-"
   ]
  },
  {
   "cell_type": "code",
   "execution_count": 22,
   "metadata": {},
   "outputs": [
    {
     "name": "stdout",
     "output_type": "stream",
     "text": [
      "New Tuple:- (1, 2, 3, 4, 5, 1, 3, 1)\n",
      "The count of 1 in tuple is:- 3\n"
     ]
    }
   ],
   "source": [
    "x=(1,2,3,4,5,1,3,1)\n",
    "x*2\n",
    "print(\"New Tuple:-\",x)\n",
    "print(\"The count of 1 in tuple is:-\",x.count(1))"
   ]
  },
  {
   "cell_type": "markdown",
   "metadata": {},
   "source": [
    "Ans 6:-"
   ]
  },
  {
   "cell_type": "code",
   "execution_count": 23,
   "metadata": {},
   "outputs": [
    {
     "name": "stdout",
     "output_type": "stream",
     "text": [
      "First Color:- Red\n",
      "Last Color:- Voilet\n"
     ]
    }
   ],
   "source": [
    "color=[\"Red\",\"Blue\",\"Yellow\",\"Voilet\"]\n",
    "print(\"First Color:-\",color[0])\n",
    "print(\"Last Color:-\",color[-1])"
   ]
  },
  {
   "cell_type": "markdown",
   "metadata": {},
   "source": [
    "Ans 7:-"
   ]
  },
  {
   "cell_type": "code",
   "execution_count": 36,
   "metadata": {},
   "outputs": [
    {
     "data": {
      "text/plain": [
       "[1, 4, 7, 'a', 'c', 'rat', 'mat', 4, 6, 4, 12]"
      ]
     },
     "execution_count": 36,
     "metadata": {},
     "output_type": "execute_result"
    }
   ],
   "source": [
    "list = [1,4,7,'a','c',\"rat\",\"mat\",4,6,4]\n",
    "list.append(12)\n",
    "list\n"
   ]
  },
  {
   "cell_type": "code",
   "execution_count": 37,
   "metadata": {},
   "outputs": [
    {
     "data": {
      "text/plain": [
       "[1, 4, 7, 'a', 'c', 'mat', 4, 6, 4, 12]"
      ]
     },
     "execution_count": 37,
     "metadata": {},
     "output_type": "execute_result"
    }
   ],
   "source": [
    "list.remove(\"rat\")\n",
    "list"
   ]
  },
  {
   "cell_type": "markdown",
   "metadata": {},
   "source": [
    "Ans 8:-"
   ]
  },
  {
   "cell_type": "code",
   "execution_count": 42,
   "metadata": {},
   "outputs": [
    {
     "name": "stdout",
     "output_type": "stream",
     "text": [
      "concatination:- [2, 3, 'd', 6, 'red', 'b', 78, 96]\n",
      "List 1:- [2, 3, 'd', 6, 2, 3, 'd', 6, 2, 3, 'd', 6]\n"
     ]
    }
   ],
   "source": [
    "l1=[2,3,'d',6]\n",
    "l2=['red','b',78,96]\n",
    "new=l1+l2 \n",
    "print(\"concatination:-\",new)  \n",
    "print(\"List 1:-\",l1*3)"
   ]
  },
  {
   "cell_type": "markdown",
   "metadata": {},
   "source": [
    "Ans 9:-"
   ]
  },
  {
   "cell_type": "code",
   "execution_count": 44,
   "metadata": {},
   "outputs": [
    {
     "data": {
      "text/plain": [
       "('apple', 'banana', 'orange', 'pineapple')"
      ]
     },
     "execution_count": 44,
     "metadata": {},
     "output_type": "execute_result"
    }
   ],
   "source": [
    "fruits=('apple','banana','orange','pineapple','kiwi','grapes','orange','pears')\n",
    "fruits[0:4]"
   ]
  },
  {
   "cell_type": "markdown",
   "metadata": {},
   "source": [
    "Ans 10:-"
   ]
  },
  {
   "cell_type": "code",
   "execution_count": 65,
   "metadata": {},
   "outputs": [
    {
     "name": "stdout",
     "output_type": "stream",
     "text": [
      "[0, 1, 2, 3, 4, 5, 6, 7, 8, 9]\n"
     ]
    }
   ],
   "source": [
    "r = range(10)\n",
    "l = [*r]\n",
    "print(l)\n"
   ]
  },
  {
   "cell_type": "code",
   "execution_count": 67,
   "metadata": {},
   "outputs": [
    {
     "data": {
      "text/plain": [
       "(0, 1, 2, 3, 4, 5, 6, 7, 8, 9)"
      ]
     },
     "execution_count": 67,
     "metadata": {},
     "output_type": "execute_result"
    }
   ],
   "source": [
    "my_tuple=tuple(l)\n",
    "my_tuple"
   ]
  },
  {
   "cell_type": "markdown",
   "metadata": {},
   "source": [
    "Ans 11:"
   ]
  },
  {
   "cell_type": "code",
   "execution_count": 124,
   "metadata": {},
   "outputs": [
    {
     "name": "stdout",
     "output_type": "stream",
     "text": [
      "(8, 'abcc', 12, 34, 'pqr')\n",
      "length 5\n"
     ]
    }
   ],
   "source": [
    "tup=\"(8,'abcc',12,34,'pqr')\"\n",
    "tup=eval(tup)\n",
    "print(tup)\n",
    "print(\"length\",len(tup))"
   ]
  },
  {
   "cell_type": "markdown",
   "metadata": {},
   "source": [
    "Ans 12:"
   ]
  },
  {
   "cell_type": "code",
   "execution_count": 105,
   "metadata": {},
   "outputs": [
    {
     "name": "stdout",
     "output_type": "stream",
     "text": [
      "Tuple before sorting: (1, 6, 7, 94, 86, 12, 38, 7, 78)\n",
      "Tuple after sorting: [1, 6, 7, 7, 12, 38, 78, 86, 94]\n"
     ]
    }
   ],
   "source": [
    "a=(1,6,7,94,86,12,38,7,78)\n",
    "print(\"Tuple before sorting:\",a)\n",
    "print(\"Tuple after sorting:\",sorted(a))\n",
    "\n"
   ]
  },
  {
   "cell_type": "markdown",
   "metadata": {},
   "source": [
    "Ans 13:"
   ]
  },
  {
   "cell_type": "code",
   "execution_count": 110,
   "metadata": {},
   "outputs": [
    {
     "data": {
      "text/plain": [
       "['Red', 'Blue', 'Purple', 'Yellow', 'Voilet']"
      ]
     },
     "execution_count": 110,
     "metadata": {},
     "output_type": "execute_result"
    }
   ],
   "source": [
    "color=[\"Red\",\"Blue\",\"Yellow\",\"Voilet\"]\n",
    "color.insert(2,\"Purple\")\n",
    "color"
   ]
  },
  {
   "cell_type": "markdown",
   "metadata": {},
   "source": [
    "Ans 14:"
   ]
  },
  {
   "cell_type": "code",
   "execution_count": 111,
   "metadata": {},
   "outputs": [
    {
     "data": {
      "text/plain": [
       "(200, 100)"
      ]
     },
     "execution_count": 111,
     "metadata": {},
     "output_type": "execute_result"
    }
   ],
   "source": [
    "x= (50, 60, 70, 80, 90, (200,100))\n",
    "x[-1]"
   ]
  },
  {
   "cell_type": "markdown",
   "metadata": {},
   "source": [
    "Ans 15:"
   ]
  },
  {
   "cell_type": "code",
   "execution_count": 116,
   "metadata": {},
   "outputs": [
    {
     "name": "stdout",
     "output_type": "stream",
     "text": [
      "Nested List: [10, ['abc', [1, 'f', 'g', 0.8], 'pop', 'add'], 300, 65, 'Sam']\n",
      "Nested Tuple: ('hi', (1, 30.89, 'first'), 45, 'as+if', ('hey', 'pink', 32, 67), 15.77, 404, 'b')\n"
     ]
    }
   ],
   "source": [
    "L=[10,[\"abc\",[1,'f','g',0.8],\"pop\",\"add\"],300,65,\"Sam\"]\n",
    "print(\"Nested List:\",L)\n",
    "T=(\"hi\",(1,30.89,\"first\"),45,'as+if',(\"hey\",\"pink\",32,67),15.77,404,'b')\n",
    "print(\"Nested Tuple:\",T)"
   ]
  },
  {
   "cell_type": "code",
   "execution_count": null,
   "metadata": {},
   "outputs": [],
   "source": []
  }
 ],
 "metadata": {
  "kernelspec": {
   "display_name": "Python 3",
   "language": "python",
   "name": "python3"
  },
  "language_info": {
   "codemirror_mode": {
    "name": "ipython",
    "version": 3
   },
   "file_extension": ".py",
   "mimetype": "text/x-python",
   "name": "python",
   "nbconvert_exporter": "python",
   "pygments_lexer": "ipython3",
   "version": "3.7.6"
  }
 },
 "nbformat": 4,
 "nbformat_minor": 4
}
