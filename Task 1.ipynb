{
 "cells": [
  {
   "cell_type": "markdown",
   "metadata": {},
   "source": [
    "Ans 1:-\n",
    "\n",
    "    a. A variable is a reserved memory location to store values or Variables are containers for storing data values.\n",
    "    b. A variable can have a short name (like x and y) or a more descriptive name (age, carname, total_volume). \n",
    "    c. Rules for Python variables:\n",
    "       - A variable name must start with a letter or the underscore character\n",
    "       -A variable name cannot start with a number\n",
    "       -A variable name can only contain alpha-numeric characters and underscores (A-z, 0-9, and _ )\n",
    "       -Variable names are case-sensitive (age, Age and AGE are three different variables)\n"
   ]
  },
  {
   "cell_type": "markdown",
   "metadata": {},
   "source": [
    "Ans 2:-\n",
    "\n",
    "     Primitive Types are the most basic data structures. They are the building block for data manipulation, and\n",
    "     such contains pure, simple values of data.Python has four primitive types: integers, floats, booleans and strings."
   ]
  },
  {
   "cell_type": "markdown",
   "metadata": {},
   "source": [
    "Ans 3:-\n",
    "       \n",
    "       Every variable in python holds an instance of an object. There are two types of objects in python i.e. \n",
    "       Mutable and  Immutable objects.\n",
    "       \n",
    "       a.Mutable Objects : An mutable object can be changed after it is created.e.g.List,Dictnories,sets\n",
    "       \n",
    "       b.Immutable Objects : An immutable object can’t be changed after it is created.These are of in-built types like \n",
    "       int, float, bool, string, unicode, tuple."
   ]
  },
  {
   "cell_type": "markdown",
   "metadata": {},
   "source": [
    "Ans 4:-\n",
    "    \n",
    "     Using the len() method we can  calculate the length of a string in Python. It takes a string as a parameter and \n",
    "     returns an integer as the length of that string. For example len(“educative”) will return 9."
   ]
  },
  {
   "cell_type": "markdown",
   "metadata": {},
   "source": [
    "Ans 5:-\n",
    "\n",
    "    Relational operators are symbols that perform operations on data and return a result as true or false depending \n",
    "    on the comparison conditions.\n",
    "    The list of operators available includes:\n",
    "        1.Less than → used with <\n",
    "        2.Greater than → used with >\n",
    "        3.Equal to → used with ==\n",
    "        4.Not equal to → used with !=\n",
    "        5.Less than or equal to → used with <=\n",
    "        6.Greater than or equal to → used with >="
   ]
  },
  {
   "cell_type": "markdown",
   "metadata": {},
   "source": [
    "Ans 6:-"
   ]
  },
  {
   "cell_type": "code",
   "execution_count": 2,
   "metadata": {},
   "outputs": [
    {
     "data": {
      "text/plain": [
       "5.0"
      ]
     },
     "execution_count": 2,
     "metadata": {},
     "output_type": "execute_result"
    }
   ],
   "source": [
    "a=float(5)\n",
    "a"
   ]
  },
  {
   "cell_type": "code",
   "execution_count": 4,
   "metadata": {},
   "outputs": [
    {
     "ename": "TypeError",
     "evalue": "'>=' not supported between instances of 'int' and 'str'",
     "output_type": "error",
     "traceback": [
      "\u001b[1;31m---------------------------------------------------------------------------\u001b[0m",
      "\u001b[1;31mTypeError\u001b[0m                                 Traceback (most recent call last)",
      "\u001b[1;32m<ipython-input-4-4f210eafe702>\u001b[0m in \u001b[0;36m<module>\u001b[1;34m\u001b[0m\n\u001b[1;32m----> 1\u001b[1;33m \u001b[1;36m10\u001b[0m\u001b[1;33m>=\u001b[0m\u001b[1;34m\"9\"\u001b[0m\u001b[1;33m\u001b[0m\u001b[1;33m\u001b[0m\u001b[0m\n\u001b[0m",
      "\u001b[1;31mTypeError\u001b[0m: '>=' not supported between instances of 'int' and 'str'"
     ]
    }
   ],
   "source": [
    "10>=\"9\"\n"
   ]
  },
  {
   "cell_type": "code",
   "execution_count": 5,
   "metadata": {},
   "outputs": [
    {
     "data": {
      "text/plain": [
       "100"
      ]
     },
     "execution_count": 5,
     "metadata": {},
     "output_type": "execute_result"
    }
   ],
   "source": [
    "b=10**2\n",
    "b"
   ]
  },
  {
   "cell_type": "code",
   "execution_count": 6,
   "metadata": {},
   "outputs": [
    {
     "data": {
      "text/plain": [
       "12"
      ]
     },
     "execution_count": 6,
     "metadata": {},
     "output_type": "execute_result"
    }
   ],
   "source": [
    "a=len(\"basic python\")\n",
    "a"
   ]
  },
  {
   "cell_type": "markdown",
   "metadata": {},
   "source": [
    "Ans 7:-\n",
    " \n",
    "     Software is a bundle of programs, working together to perform a task or solve a problem, that makes our life easier. \n",
    "     And in order to perform any task or solve the problem, the software must know the parameters of the problem(or, \n",
    "     task to perform). This is where programs take input from the user. Also, after taking these inputs the program \n",
    "     must process them and return some result. This is where output comes into the picture.\n",
    "     \n",
    "     print() function is used to display o/p."
   ]
  },
  {
   "cell_type": "markdown",
   "metadata": {},
   "source": [
    "ans 8:-"
   ]
  },
  {
   "cell_type": "code",
   "execution_count": 12,
   "metadata": {},
   "outputs": [
    {
     "name": "stdout",
     "output_type": "stream",
     "text": [
      "The given integer is:-  7\n",
      "Conversion of integer into float:- 7.0\n",
      "Conversion of integer into string:- 7\n"
     ]
    }
   ],
   "source": [
    "x=7\n",
    "print(\"The given integer is:- \",x)\n",
    "y=float(x)\n",
    "print(\"Conversion of integer into float:-\",y)\n",
    "z=str(x)\n",
    "print(\"Conversion of integer into string:-\",z)\n"
   ]
  },
  {
   "cell_type": "code",
   "execution_count": 13,
   "metadata": {},
   "outputs": [
    {
     "name": "stdout",
     "output_type": "stream",
     "text": [
      "The given float is:-  6.87\n",
      "Conversion of float into int:- 6\n",
      "Conversion of float into string:- 6.87\n"
     ]
    }
   ],
   "source": [
    "a=6.87\n",
    "print(\"The given float is:- \",a)\n",
    "b=int(a)\n",
    "print(\"Conversion of float into int:-\",b)\n",
    "c=str(a)\n",
    "print(\"Conversion of float into string:-\",c)\n"
   ]
  },
  {
   "cell_type": "code",
   "execution_count": 25,
   "metadata": {},
   "outputs": [
    {
     "name": "stdout",
     "output_type": "stream",
     "text": [
      "The given String is:-  121\n",
      "type of a:- <class 'str'>\n",
      "Conversion of string into int:- 121\n",
      "Conversion of string into float:- 121.0\n"
     ]
    }
   ],
   "source": [
    "a=\"121\"\n",
    "print(\"The given String is:- \",a)\n",
    "print(\"type of a:-\",type(a))\n",
    "b=int(a,)\n",
    "print(\"Conversion of string into int:-\",b)\n",
    "c=float(a)\n",
    "print(\"Conversion of string into float:-\",c)"
   ]
  },
  {
   "cell_type": "markdown",
   "metadata": {},
   "source": [
    "Ans 9:-"
   ]
  },
  {
   "cell_type": "code",
   "execution_count": 32,
   "metadata": {},
   "outputs": [
    {
     "name": "stdout",
     "output_type": "stream",
     "text": [
      "Enter an integer value:-14\n",
      "<class 'int'>\n",
      "The value is:- 14\n"
     ]
    }
   ],
   "source": [
    "a=int(input(\"Enter an integer value:-\"))\n",
    "print(type(a))\n",
    "print(\"The value is:-\",a)"
   ]
  },
  {
   "cell_type": "markdown",
   "metadata": {},
   "source": [
    "Ans 10:-"
   ]
  },
  {
   "cell_type": "code",
   "execution_count": 36,
   "metadata": {},
   "outputs": [
    {
     "name": "stdout",
     "output_type": "stream",
     "text": [
      "Enter the first val:-9\n",
      "Enter the second val:-3\n",
      "Addition is:- 12\n",
      "subtraction is:- 6\n",
      "Multiplication is:- 27\n",
      "Division is:- 3.0\n",
      "Modulous is:- 0\n",
      "Exponent is:- 729\n"
     ]
    }
   ],
   "source": [
    "a=int(input(\"Enter the first val:-\"))\n",
    "b=int(input(\"Enter the second val:-\"))\n",
    "c=a+b\n",
    "print(\"Addition is:-\",c)\n",
    "d=a-b\n",
    "print(\"subtraction is:-\",d)\n",
    "mul=a*b\n",
    "print(\"Multiplication is:-\",mul)\n",
    "div=a/b\n",
    "print(\"Division is:-\",div)\n",
    "mod=a%b\n",
    "print(\"Modulous is:-\",mod)\n",
    "expo=a**b\n",
    "print(\"Exponent is:-\",expo)"
   ]
  },
  {
   "cell_type": "markdown",
   "metadata": {},
   "source": [
    "Ans 11:-"
   ]
  },
  {
   "cell_type": "code",
   "execution_count": 40,
   "metadata": {},
   "outputs": [
    {
     "name": "stdout",
     "output_type": "stream",
     "text": [
      "Both a and b are equal\n"
     ]
    }
   ],
   "source": [
    "a=100\n",
    "b=100\n",
    "if(a is b):\n",
    "    print(\"Both a and b are equal\")\n",
    "else:\n",
    "    print(\"Both a and b are not equal\")"
   ]
  },
  {
   "cell_type": "code",
   "execution_count": 41,
   "metadata": {},
   "outputs": [
    {
     "name": "stdout",
     "output_type": "stream",
     "text": [
      "Both a and b are equal\n"
     ]
    }
   ],
   "source": [
    "a=100\n",
    "b=101\n",
    "if(a is not b):\n",
    "    print(\"Both a and b are equal\")\n",
    "else:\n",
    "    print(\"Both a and b are not equal\")"
   ]
  },
  {
   "cell_type": "code",
   "execution_count": 43,
   "metadata": {},
   "outputs": [
    {
     "name": "stdout",
     "output_type": "stream",
     "text": [
      "to check both values are equal:-\n",
      "False\n",
      "to check both values are not equal:-\n",
      "True\n"
     ]
    }
   ],
   "source": [
    "var1=33\n",
    "var2=36\n",
    "print(\"to check both values are equal:-\")\n",
    "print(var1 is var2)\n",
    "print(\"to check both values are not equal:-\")\n",
    "print(var1 is not var2)"
   ]
  },
  {
   "cell_type": "markdown",
   "metadata": {},
   "source": [
    "Ans 12:-"
   ]
  },
  {
   "cell_type": "code",
   "execution_count": 46,
   "metadata": {},
   "outputs": [
    {
     "name": "stdout",
     "output_type": "stream",
     "text": [
      "False\n"
     ]
    }
   ],
   "source": [
    "a=\"praj\"\n",
    "b=\"raja\"\n",
    "print(a==b)"
   ]
  },
  {
   "cell_type": "code",
   "execution_count": 47,
   "metadata": {},
   "outputs": [
    {
     "name": "stdout",
     "output_type": "stream",
     "text": [
      "True\n"
     ]
    }
   ],
   "source": [
    "a=\"praj\"\n",
    "b=\"praj\"\n",
    "print(a==b)"
   ]
  },
  {
   "cell_type": "markdown",
   "metadata": {},
   "source": [
    "Ans 13:-"
   ]
  },
  {
   "cell_type": "code",
   "execution_count": 49,
   "metadata": {},
   "outputs": [
    {
     "name": "stdout",
     "output_type": "stream",
     "text": [
      "value a:- One line \n",
      "value b:- One line \n",
      "value c:- One line \n"
     ]
    }
   ],
   "source": [
    "a=b=c=\"One line \"\n",
    "print(\"value a:-\",a)\n",
    "print(\"value b:-\",b)\n",
    "print(\"value c:-\",c)"
   ]
  },
  {
   "cell_type": "markdown",
   "metadata": {},
   "source": [
    "Ans 14:-"
   ]
  },
  {
   "cell_type": "code",
   "execution_count": 51,
   "metadata": {},
   "outputs": [
    {
     "data": {
      "text/plain": [
       "8791338561008"
      ]
     },
     "execution_count": 51,
     "metadata": {},
     "output_type": "execute_result"
    }
   ],
   "source": [
    "a=100\n",
    "id(a)\n"
   ]
  },
  {
   "cell_type": "markdown",
   "metadata": {},
   "source": [
    "Ans 15:-"
   ]
  },
  {
   "cell_type": "markdown",
   "metadata": {},
   "source": [
    "Python is a popular programming language. It was created by Guido van Rossum, and released in 1991.\n",
    "\n",
    "It is used for:\n",
    "1.web development (server-side),\n",
    "2.software development,\n",
    "3.mathematics,\n",
    "4.system scripting.\n",
    "\n",
    "Python Install:-\n",
    "\n",
    "Many PCs and Macs will have python already installed.\n",
    "\n",
    "To check if you have python installed on a Windows PC, search in the start bar for Python or run the following on the Command Line (cmd.exe):\n",
    "\n",
    "C:\\Users\\Your Name>python --version\n",
    "\n",
    "To check if you have python installed on a Linux or Mac, then on linux open the command line or on Mac open the Terminal and type:\n",
    "\n",
    "python --version\n",
    "\n",
    "If you find that you do not have python installed on your computer, then you can download it for free from the following website: https://www.python.org/\n",
    "\n"
   ]
  },
  {
   "cell_type": "code",
   "execution_count": null,
   "metadata": {},
   "outputs": [],
   "source": []
  }
 ],
 "metadata": {
  "kernelspec": {
   "display_name": "Python 3",
   "language": "python",
   "name": "python3"
  },
  "language_info": {
   "codemirror_mode": {
    "name": "ipython",
    "version": 3
   },
   "file_extension": ".py",
   "mimetype": "text/x-python",
   "name": "python",
   "nbconvert_exporter": "python",
   "pygments_lexer": "ipython3",
   "version": "3.7.6"
  }
 },
 "nbformat": 4,
 "nbformat_minor": 4
}
