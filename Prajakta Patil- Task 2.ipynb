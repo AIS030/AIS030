{
 "cells": [
  {
   "cell_type": "markdown",
   "metadata": {},
   "source": [
    "Ans 1:\n",
    "         \n",
    "         An array is a data structure that contains a group of elements. Typically these elements are all of \n",
    "         the same data type, such as an integer or string. Arrays are commonly used in computer programs to \n",
    "         organize data so that a related set of values can be easily sorted or searched."
   ]
  },
  {
   "cell_type": "markdown",
   "metadata": {},
   "source": [
    "Ans 2:\n",
    "    \n",
    "        The differences between lists and arrays in Python:\n",
    "\n",
    "        1.Arrays need to be declared. Lists don’t, since they are built into Python.\n",
    "        \n",
    "        2.Arrays can store data very compactly and are more efficient for storing large amounts of data.\n",
    "        \n",
    "        3.Arrays are great for numerical operations; lists cannot directly handle math operations. \n",
    "       \n",
    "        "
   ]
  },
  {
   "cell_type": "markdown",
   "metadata": {},
   "source": [
    "Ans 3:\n",
    "\n",
    "\n",
    "        The reshape() function is used to give a new shape to an array without changing its data"
   ]
  },
  {
   "cell_type": "markdown",
   "metadata": {},
   "source": [
    "Ans 4:\n",
    "\n",
    "            Python string method strip() returns a copy of the string in which all chars have been stripped \n",
    "            from the beginning and the end of the string (default whitespace characters).\n",
    "\n",
    "            Syntax\n",
    "            Following is the syntax for strip() method −\n",
    "\n",
    "                    str.strip([chars]);\n",
    "            \n",
    "            Parameters\n",
    "            chars − The characters to be removed from beginning or end of the string\n",
    "            \n",
    "            Return Value\n",
    "            This method returns a copy of the string in which all chars have been stripped from the \n",
    "            beginning and the end of the string.\n",
    "            \n",
    "            Example:-\n",
    "            \n",
    "            #!/usr/bin/python\n",
    "\n",
    "            str = \"0000000this is string example....wow!!!0000000\";\n",
    "            print str.strip( '0' )\n",
    "            \n",
    "            output:-\n",
    "            \n",
    "            this is string example....wow!!!"
   ]
  },
  {
   "cell_type": "markdown",
   "metadata": {},
   "source": [
    "Ans 5\n",
    "\n",
    "    To create strings that span multiple lines, triple single quotes ''' or triple double quotes \"\"\" are used \n",
    "    to enclose the string.\n",
    "\n"
   ]
  },
  {
   "cell_type": "markdown",
   "metadata": {},
   "source": [
    "Ans 6"
   ]
  },
  {
   "cell_type": "code",
   "execution_count": 4,
   "metadata": {},
   "outputs": [
    {
     "data": {
      "text/plain": [
       "['a', 'b', 'c', 'd']"
      ]
     },
     "execution_count": 4,
     "metadata": {},
     "output_type": "execute_result"
    }
   ],
   "source": [
    "array1=['a','b','c','d']\n",
    "\n",
    "array1"
   ]
  },
  {
   "cell_type": "markdown",
   "metadata": {},
   "source": [
    "Ans 7"
   ]
  },
  {
   "cell_type": "code",
   "execution_count": 5,
   "metadata": {},
   "outputs": [
    {
     "data": {
      "text/plain": [
       "'ll'"
      ]
     },
     "execution_count": 5,
     "metadata": {},
     "output_type": "execute_result"
    }
   ],
   "source": [
    "arr=\"hello\"\n",
    "arr[2:4]\n"
   ]
  },
  {
   "cell_type": "markdown",
   "metadata": {},
   "source": [
    "Ans 8 :"
   ]
  },
  {
   "cell_type": "code",
   "execution_count": 9,
   "metadata": {},
   "outputs": [
    {
     "name": "stdout",
     "output_type": "stream",
     "text": [
      "Maximun Integer:- 102\n",
      "Minimum Integer:- 9\n"
     ]
    }
   ],
   "source": [
    "a=[12,56,78,32,90,23,44,102,65,9]\n",
    "b=max(a)\n",
    "print(\"Maximun Integer:-\",b)\n",
    "c=min(a)\n",
    "print(\"Minimum Integer:-\",c)\n",
    "\n"
   ]
  },
  {
   "cell_type": "markdown",
   "metadata": {},
   "source": [
    "Ans 9:"
   ]
  },
  {
   "cell_type": "code",
   "execution_count": 26,
   "metadata": {
    "scrolled": true
   },
   "outputs": [
    {
     "name": "stdout",
     "output_type": "stream",
     "text": [
      "python\n",
      "Reverse String :- nohtyP\n"
     ]
    }
   ],
   "source": [
    "nm=\"core python\"\n",
    "a=nm[5:]\n",
    "print(a)\n",
    "b=a\n",
    "strlen=len(b)\n",
    "c=str[strlen::-1]\n",
    "print(\"Reverse String :-\",c)"
   ]
  },
  {
   "cell_type": "markdown",
   "metadata": {},
   "source": [
    "Ans 10 :\n",
    "\n"
   ]
  },
  {
   "cell_type": "code",
   "execution_count": 31,
   "metadata": {},
   "outputs": [
    {
     "name": "stdout",
     "output_type": "stream",
     "text": [
      "new array:- [56, 78, 32, 90, 23, 44, 102, 65, 9, 12]\n",
      "Updated array:- [56, 78, 32, 90, 23, 44, 65, 9, 12]\n"
     ]
    }
   ],
   "source": [
    "a=[56,78,32,90,23,44,102,65,9]\n",
    "a.append(12)\n",
    "print(\"new array:-\",a)\n",
    "a.remove(102)\n",
    "print(\"Updated array:-\",a)"
   ]
  },
  {
   "cell_type": "markdown",
   "metadata": {},
   "source": [
    "Ans 11 :\n",
    "    "
   ]
  },
  {
   "cell_type": "code",
   "execution_count": 41,
   "metadata": {},
   "outputs": [
    {
     "name": "stdout",
     "output_type": "stream",
     "text": [
      "One dimensional array:-\n",
      "[1 2 3 4]\n",
      "Three dimensional array:-\n",
      "[[[ 1  2  3]\n",
      "  [ 4  5  6]]\n",
      "\n",
      " [[12 22 23]\n",
      "  [45 55 56]]]\n"
     ]
    }
   ],
   "source": [
    "\n",
    "import numpy as np\n",
    "print(\"One dimensional array:-\")\n",
    "arr1=np.array([1,2,3,4])\n",
    "print(arr1)\n",
    "print(\"Three dimensional array:-\",)\n",
    "arr = np.array([[[1, 2, 3], [4, 5, 6]], [[12, 22, 23], [45, 55, 56]]])\n",
    "\n",
    "print(arr)\n"
   ]
  },
  {
   "cell_type": "markdown",
   "metadata": {},
   "source": [
    "Ans 12:"
   ]
  },
  {
   "cell_type": "code",
   "execution_count": 49,
   "metadata": {},
   "outputs": [
    {
     "name": "stdout",
     "output_type": "stream",
     "text": [
      "Upper case:- PROGRAMIZ\n",
      "Lower case:- programiz\n",
      "Replace:- Program\n"
     ]
    }
   ],
   "source": [
    "a= \"Programiz\"\n",
    "print(\"Upper case:-\",a.upper())\n",
    "print(\"Lower case:-\",a.lower())\n",
    "a=a.replace(\"Programiz\",\"Program\")\n",
    "print(\"Replace:-\",a)"
   ]
  },
  {
   "cell_type": "markdown",
   "metadata": {},
   "source": [
    " Ans 13 :\n",
    "    "
   ]
  },
  {
   "cell_type": "code",
   "execution_count": 65,
   "metadata": {},
   "outputs": [
    {
     "name": "stdout",
     "output_type": "stream",
     "text": [
      "[ 1  3  5  7 10]\n",
      "[1 3 5 7 9]\n",
      "subtraction:- [0 0 0 0 1]\n"
     ]
    }
   ],
   "source": [
    "import numpy as np\n",
    "arr1=np.linspace(1,10,5,dtype=int)\n",
    "print(arr1)\n",
    "arr2=np.arange(1,10,2,dtype=int)\n",
    "print(arr2)\n",
    "arr3=arr1-arr2\n",
    "print(\"subtraction:-\",arr3)"
   ]
  },
  {
   "cell_type": "markdown",
   "metadata": {},
   "source": [
    "Ans 14:"
   ]
  },
  {
   "cell_type": "code",
   "execution_count": 69,
   "metadata": {},
   "outputs": [
    {
     "data": {
      "text/plain": [
       "['happy', 'new', 'year']"
      ]
     },
     "execution_count": 69,
     "metadata": {},
     "output_type": "execute_result"
    }
   ],
   "source": [
    "str=\"happy new year\"\n",
    "a=str.split()\n",
    "a"
   ]
  },
  {
   "cell_type": "code",
   "execution_count": 81,
   "metadata": {},
   "outputs": [
    {
     "name": "stdout",
     "output_type": "stream",
     "text": [
      " check if string this is in string hi this is me\n",
      "True\n",
      " check if string hi this is me is in string this\n",
      "False\n"
     ]
    }
   ],
   "source": [
    "a=\"hi this is me\"\n",
    "b='this'\n",
    "print(\" check if string \"+b + \" is in string \"+a)\n",
    "print(b in a)\n",
    "print(\" check if string \"+a+\" is in string \"+b)\n",
    "print(a in b)"
   ]
  },
  {
   "cell_type": "code",
   "execution_count": null,
   "metadata": {},
   "outputs": [],
   "source": []
  }
 ],
 "metadata": {
  "kernelspec": {
   "display_name": "Python 3",
   "language": "python",
   "name": "python3"
  },
  "language_info": {
   "codemirror_mode": {
    "name": "ipython",
    "version": 3
   },
   "file_extension": ".py",
   "mimetype": "text/x-python",
   "name": "python",
   "nbconvert_exporter": "python",
   "pygments_lexer": "ipython3",
   "version": "3.7.6"
  }
 },
 "nbformat": 4,
 "nbformat_minor": 4
}
